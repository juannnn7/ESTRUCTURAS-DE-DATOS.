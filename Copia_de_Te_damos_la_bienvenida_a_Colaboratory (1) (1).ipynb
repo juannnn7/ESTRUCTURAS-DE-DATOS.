{
  "cells": [
    {
      "cell_type": "code",
      "source": [
        "# Función para pedir un conjunto de números\n",
        "def pedir_conjunto():\n",
        "    numeros = input(\"Introduce una lista de números separados por comas: \")\n",
        "    # Convertimos los números a un conjunto de enteros\n",
        "    conjunto = set(map(int, numeros.split(',')))\n",
        "    return conjunto\n",
        "\n",
        "# Pedimos los dos conjuntos al usuario\n",
        "print(\"Conjunto 1:\")\n",
        "conjunto1 = pedir_conjunto()\n",
        "\n",
        "print(\"Conjunto 2:\")\n",
        "conjunto2 = pedir_conjunto()\n",
        "\n",
        "# Calculamos la intersección\n",
        "interseccion = conjunto1.intersection(conjunto2)\n",
        "\n",
        "# Iteramos sobre la intersección y mostramos los números mayores que 10\n",
        "print(\"Números mayores que 10 en la intersección:\")\n",
        "for num in interseccion:\n",
        "    if num > 10:\n",
        "        print(num)"
      ],
      "metadata": {
        "colab": {
          "base_uri": "https://localhost:8080/"
        },
        "id": "0Y_3mHk0VtKv",
        "outputId": "2515f3c6-f8d1-49ab-d85f-96b47c8e5cf5"
      },
      "execution_count": null,
      "outputs": [
        {
          "output_type": "stream",
          "name": "stdout",
          "text": [
            "Conjunto 1:\n"
          ]
        }
      ]
    },
    {
      "cell_type": "code",
      "source": [
        "# Función para pedir un conjunto de palabras\n",
        "def pedir_conjunto_palabras():\n",
        "    palabras = input(\"Introduce una lista de palabras separadas por comas: \")\n",
        "    # Convertimos las palabras a un conjunto eliminando espacios innecesarios\n",
        "    conjunto_palabras = set(map(str.strip, palabras.split(',')))\n",
        "    return conjunto_palabras\n",
        "\n",
        "# Pedimos los dos conjuntos al usuario\n",
        "print(\"Conjunto 1:\")\n",
        "conjunto1 = pedir_conjunto_palabras()\n",
        "\n",
        "print(\"Conjunto 2:\")\n",
        "conjunto2 = pedir_conjunto_palabras()\n",
        "\n",
        "# Calculamos la intersección de los dos conjuntos\n",
        "interseccion = conjunto1.intersection(conjunto2)\n",
        "\n",
        "# Mostramos las palabras que aparecen en ambos conjuntos\n",
        "print(\"Palabras que aparecen en ambos conjuntos:\")\n",
        "for palabra in interseccion:\n",
        "    print(palabra)"
      ],
      "metadata": {
        "colab": {
          "base_uri": "https://localhost:8080/"
        },
        "id": "7r5wTtO3WdGt",
        "outputId": "d3f13f60-c45d-4815-a27c-3f89f96912cd"
      },
      "execution_count": null,
      "outputs": [
        {
          "output_type": "stream",
          "name": "stdout",
          "text": [
            "Conjunto 1:\n",
            "Introduce una lista de palabras separadas por comas: perro, gato\n",
            "Conjunto 2:\n",
            "Introduce una lista de palabras separadas por comas: avion, gato\n",
            "Palabras que aparecen en ambos conjuntos:\n",
            "gato\n"
          ]
        }
      ]
    },
    {
      "cell_type": "code",
      "source": [
        "# Función para pedir un conjunto de números\n",
        "def pedir_conjunto():\n",
        "    numeros = input(\"Introduce una lista de números separados por comas: \")\n",
        "    # Convertimos los números a un conjunto de enteros\n",
        "    conjunto = set(map(int, numeros.split(',')))\n",
        "    return conjunto\n",
        "\n",
        "# Pedimos los dos conjuntos al usuario\n",
        "print(\"Conjunto 1:\")\n",
        "conjunto1 = pedir_conjunto()\n",
        "\n",
        "print(\"Conjunto 2:\")\n",
        "conjunto2 = pedir_conjunto()\n",
        "\n",
        "# Calculamos la unión de ambos conjuntos\n",
        "union = conjunto1.union(conjunto2)\n",
        "\n",
        "# Mostramos la unión de los conjuntos\n",
        "print(\"Unión de los dos conjuntos:\")\n",
        "print(union)"
      ],
      "metadata": {
        "colab": {
          "base_uri": "https://localhost:8080/"
        },
        "id": "mYMZEVjBXT2r",
        "outputId": "d9f47ece-fcc1-447c-d7d9-1911f4645fc9"
      },
      "execution_count": null,
      "outputs": [
        {
          "output_type": "stream",
          "name": "stdout",
          "text": [
            "Conjunto 1:\n",
            "Introduce una lista de números separados por comas: 11,12,4\n",
            "Conjunto 2:\n",
            "Introduce una lista de números separados por comas: 11, 3, 1\n",
            "Unión de los dos conjuntos:\n",
            "{1, 3, 4, 11, 12}\n"
          ]
        }
      ]
    }
  ],
  "metadata": {
    "colab": {
      "toc_visible": true,
      "provenance": []
    },
    "kernelspec": {
      "display_name": "Python 3",
      "name": "python3"
    }
  },
  "nbformat": 4,
  "nbformat_minor": 0
}